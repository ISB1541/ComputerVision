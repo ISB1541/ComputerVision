{
 "cells": [
  {
   "cell_type": "markdown",
   "metadata": {},
   "source": [
    "# 1.4.4 Smoothing Images"
   ]
  },
  {
   "cell_type": "markdown",
   "metadata": {},
   "source": [
    "## Kernel Convolution"
   ]
  },
  {
   "cell_type": "code",
   "execution_count": 4,
   "metadata": {},
   "outputs": [],
   "source": [
    "import cv2\n",
    "import numpy as np\n",
    "from matplotlib import pyplot as plt\n",
    "import os"
   ]
  },
  {
   "cell_type": "code",
   "execution_count": 5,
   "metadata": {},
   "outputs": [],
   "source": [
    "resource_path = os.getcwd() + '/resource/'"
   ]
  },
  {
   "cell_type": "code",
   "execution_count": 6,
   "metadata": {},
   "outputs": [],
   "source": [
    "l=1\n",
    "kernel = np.array([[0,-1,0],[-1,4,-1],[0,-1,0]],np.float32)"
   ]
  },
  {
   "cell_type": "code",
   "execution_count": 7,
   "metadata": {},
   "outputs": [
    {
     "data": {
      "text/plain": [
       "array([[ 0., -1.,  0.],\n",
       "       [-1.,  4., -1.],\n",
       "       [ 0., -1.,  0.]], dtype=float32)"
      ]
     },
     "execution_count": 7,
     "metadata": {},
     "output_type": "execute_result"
    }
   ],
   "source": [
    "kernel"
   ]
  },
  {
   "cell_type": "code",
   "execution_count": 8,
   "metadata": {},
   "outputs": [],
   "source": [
    "img = np.random.randint(10, size=(12,12))\n",
    "#img = np.ones((10,10),np.float32)"
   ]
  },
  {
   "cell_type": "code",
   "execution_count": 9,
   "metadata": {},
   "outputs": [
    {
     "data": {
      "text/plain": [
       "array([[7, 6, 0, 9, 7, 3, 8, 9, 7, 1, 0, 6],\n",
       "       [1, 8, 2, 8, 3, 4, 8, 3, 4, 3, 1, 1],\n",
       "       [7, 2, 7, 5, 6, 2, 8, 9, 5, 2, 2, 2],\n",
       "       [4, 5, 3, 8, 2, 6, 6, 3, 9, 1, 1, 7],\n",
       "       [2, 8, 5, 1, 9, 4, 3, 6, 2, 5, 4, 3],\n",
       "       [5, 6, 9, 9, 1, 5, 5, 5, 5, 1, 3, 3],\n",
       "       [7, 0, 6, 5, 6, 5, 7, 5, 2, 4, 9, 1],\n",
       "       [5, 4, 0, 5, 2, 4, 8, 0, 9, 3, 4, 8],\n",
       "       [6, 8, 8, 4, 8, 0, 2, 6, 3, 3, 9, 1],\n",
       "       [0, 4, 0, 8, 9, 3, 3, 5, 2, 7, 7, 4],\n",
       "       [6, 8, 9, 3, 1, 5, 2, 9, 1, 9, 5, 5],\n",
       "       [5, 0, 4, 1, 8, 6, 7, 3, 7, 1, 2, 2]])"
      ]
     },
     "execution_count": 9,
     "metadata": {},
     "output_type": "execute_result"
    }
   ],
   "source": [
    "img"
   ]
  },
  {
   "cell_type": "code",
   "execution_count": 10,
   "metadata": {},
   "outputs": [],
   "source": [
    "h,w=img.shape"
   ]
  },
  {
   "cell_type": "code",
   "execution_count": 11,
   "metadata": {},
   "outputs": [
    {
     "name": "stdout",
     "output_type": "stream",
     "text": [
      "12 12\n"
     ]
    }
   ],
   "source": [
    "print(h,w)"
   ]
  },
  {
   "cell_type": "code",
   "execution_count": 12,
   "metadata": {},
   "outputs": [],
   "source": [
    "#[*range(-2,3)]"
   ]
  },
  {
   "cell_type": "code",
   "execution_count": 13,
   "metadata": {},
   "outputs": [],
   "source": [
    "dst = np.zeros((h,w),np.int)"
   ]
  },
  {
   "cell_type": "code",
   "execution_count": 14,
   "metadata": {},
   "outputs": [],
   "source": [
    "for i in range(l,h-l):\n",
    "    for j in range(l,w-l):\n",
    "        t=0\n",
    "        for p in range(-l,l+1):\n",
    "            for q in range(-l,l+1):\n",
    "                t += kernel[p+l,q+l]*img[i+p,j+q]\n",
    "        dst[i,j]=t        "
   ]
  },
  {
   "cell_type": "code",
   "execution_count": 15,
   "metadata": {},
   "outputs": [
    {
     "data": {
      "text/plain": [
       "array([[7, 6, 0, 9, 7, 3, 8, 9, 7, 1, 0, 6],\n",
       "       [1, 8, 2, 8, 3, 4, 8, 3, 4, 3, 1, 1],\n",
       "       [7, 2, 7, 5, 6, 2, 8, 9, 5, 2, 2, 2],\n",
       "       [4, 5, 3, 8, 2, 6, 6, 3, 9, 1, 1, 7],\n",
       "       [2, 8, 5, 1, 9, 4, 3, 6, 2, 5, 4, 3],\n",
       "       [5, 6, 9, 9, 1, 5, 5, 5, 5, 1, 3, 3],\n",
       "       [7, 0, 6, 5, 6, 5, 7, 5, 2, 4, 9, 1],\n",
       "       [5, 4, 0, 5, 2, 4, 8, 0, 9, 3, 4, 8],\n",
       "       [6, 8, 8, 4, 8, 0, 2, 6, 3, 3, 9, 1],\n",
       "       [0, 4, 0, 8, 9, 3, 3, 5, 2, 7, 7, 4],\n",
       "       [6, 8, 9, 3, 1, 5, 2, 9, 1, 9, 5, 5],\n",
       "       [5, 0, 4, 1, 8, 6, 7, 3, 7, 1, 2, 2]])"
      ]
     },
     "execution_count": 15,
     "metadata": {},
     "output_type": "execute_result"
    }
   ],
   "source": [
    "img"
   ]
  },
  {
   "cell_type": "code",
   "execution_count": 16,
   "metadata": {},
   "outputs": [
    {
     "data": {
      "text/plain": [
       "array([[  0,   0,   0,   0,   0,   0,   0,   0,   0,   0,   0,   0],\n",
       "       [  0,  21, -15,  13, -13,   0,   9, -18,  -2,   4,  -2,   0],\n",
       "       [  0, -19,  16,  -9,  12, -16,   7,  17,  -4,  -3,   2,   0],\n",
       "       [  0,   3, -13,  21, -21,  10,   4, -18,  25, -13, -10,   0],\n",
       "       [  0,  14,  -1, -27,  28,  -7,  -9,  11, -17,  12,   4,   0],\n",
       "       [  0,   2,  10,  20, -25,   5,   0,  -1,  10, -13,  -5,   0],\n",
       "       [  0, -23,  10,  -6,  11,  -2,   5,   6, -15,   1,  24,   0],\n",
       "       [  0,   3, -23,   9, -15,   1,  19, -28,  28,  -8, -13,   0],\n",
       "       [  0,  10,  20, -13,  17, -17,  -9,  14,  -8, -10,  21,   0],\n",
       "       [  0,   0, -29,  16,  16,  -5,   0,   0,  -8,   7,   3,   0],\n",
       "       [  0,  13,  21,  -7, -21,   8, -16,  25, -23,  22,  -3,   0],\n",
       "       [  0,   0,   0,   0,   0,   0,   0,   0,   0,   0,   0,   0]])"
      ]
     },
     "execution_count": 16,
     "metadata": {},
     "output_type": "execute_result"
    }
   ],
   "source": [
    "dst"
   ]
  },
  {
   "cell_type": "code",
   "execution_count": 17,
   "metadata": {},
   "outputs": [],
   "source": [
    "img = cv2.imread(resource_path + 'lena.png', 0)"
   ]
  },
  {
   "cell_type": "code",
   "execution_count": 18,
   "metadata": {},
   "outputs": [],
   "source": [
    "h,w=img.shape"
   ]
  },
  {
   "cell_type": "code",
   "execution_count": 19,
   "metadata": {},
   "outputs": [],
   "source": [
    "dst = np.zeros((h-2*l,w-2*l),np.uint8)"
   ]
  },
  {
   "cell_type": "code",
   "execution_count": 20,
   "metadata": {},
   "outputs": [],
   "source": [
    "for i in range(l,h-l):\n",
    "    for j in range(l,w-l):\n",
    "        t=0\n",
    "        for p in range(-l,l+1):\n",
    "            for q in range(-l,l+1):\n",
    "                t += kernel[p+l,q+l]*img[i+p,j+q]\n",
    "        dst[i-l,j-l]=t "
   ]
  },
  {
   "cell_type": "code",
   "execution_count": 21,
   "metadata": {},
   "outputs": [],
   "source": [
    "cv2.imshow('img',img)\n",
    "cv2.imshow('dst',dst)\n",
    "cv2.waitKey(0)\n",
    "cv2.destroyAllWindows()"
   ]
  },
  {
   "cell_type": "code",
   "execution_count": null,
   "metadata": {},
   "outputs": [],
   "source": []
  }
 ],
 "metadata": {
  "kernelspec": {
   "display_name": "Python 3",
   "language": "python",
   "name": "python3"
  },
  "language_info": {
   "codemirror_mode": {
    "name": "ipython",
    "version": 3
   },
   "file_extension": ".py",
   "mimetype": "text/x-python",
   "name": "python",
   "nbconvert_exporter": "python",
   "pygments_lexer": "ipython3",
   "version": "3.8.2"
  }
 },
 "nbformat": 4,
 "nbformat_minor": 4
}
