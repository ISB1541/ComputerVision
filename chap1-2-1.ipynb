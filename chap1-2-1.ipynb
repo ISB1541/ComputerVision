{
 "cells": [
  {
   "cell_type": "markdown",
   "metadata": {},
   "source": [
    "# 1.2 Gui Features in OpenCV"
   ]
  },
  {
   "cell_type": "markdown",
   "metadata": {},
   "source": [
    "## Write an image"
   ]
  },
  {
   "cell_type": "code",
   "execution_count": 1,
   "metadata": {},
   "outputs": [],
   "source": [
    "import numpy as np\n",
    "import cv2\n",
    "import osresource_path = os.getcwd() + '/resource/'\n",
    "img = cv2.imread(resource_path + 'messi5.png',0)"
   ]
  },
  {
   "cell_type": "code",
   "execution_count": 5,
   "metadata": {},
   "outputs": [],
   "source": [
    "resource_path = os.getcwd() + '/resource/'\n",
    "img = cv2.imread(resource_path + 'messi5.png',0)\n",
    "cv2.imshow('image',img)\n",
    "k = cv2.waitKey(0)\n",
    "if k == 27: # wait for ESC key to exit\n",
    "    cv2.destroyAllWindows()\n",
    "elif k == ord('s'): # wait for 's' key to save and exit\n",
    "    cv2.imwrite('messigray.png',img)\n",
    "    cv2.destroyAllWindows()\n",
    "    k = cv2.waitKey(0)\n",
    "k = cv2.waitKey(0) & 0xFF"
   ]
  },
  {
   "cell_type": "markdown",
   "metadata": {},
   "source": [
    "## Using Matplotlib"
   ]
  },
  {
   "cell_type": "code",
   "execution_count": null,
   "metadata": {},
   "outputs": [],
   "source": [
    "import numpy as np\n",
    "import cv2\n",
    "from matplotlib import pyplot as plt"
   ]
  },
  {
   "cell_type": "code",
   "execution_count": null,
   "metadata": {},
   "outputs": [],
   "source": [
    "# resource_path = \"E:/Python/Jupyter/cv2020/resource/\"\n",
    "resource_path = os.getcwd() + \"/resource/\"\n",
    "img = cv2.imread(resource_path + 'messi5.png',0)\n",
    "plt.imshow(img, cmap = 'gray', interpolation = 'bicubic')\n",
    "plt.xticks([]), plt.yticks([]) # to hide tick values on X and Y axis\n",
    "plt.show()"
   ]
  }
 ],
 "metadata": {
  "kernelspec": {
   "display_name": "Python 3",
   "language": "python",
   "name": "python3"
  },
  "language_info": {
   "codemirror_mode": {
    "name": "ipython",
    "version": 3
   },
   "file_extension": ".py",
   "mimetype": "text/x-python",
   "name": "python",
   "nbconvert_exporter": "python",
   "pygments_lexer": "ipython3",
   "version": "3.8.2"
  }
 },
 "nbformat": 4,
 "nbformat_minor": 4
}
