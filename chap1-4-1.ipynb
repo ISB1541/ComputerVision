{
 "cells": [
  {
   "cell_type": "markdown",
   "metadata": {},
   "source": [
    "## 1.4.1 Changing Colorspaces"
   ]
  },
  {
   "cell_type": "markdown",
   "metadata": {},
   "source": [
    "### Object Tracking"
   ]
  },
  {
   "cell_type": "code",
   "execution_count": 4,
   "metadata": {},
   "outputs": [
    {
     "name": "stdout",
     "output_type": "stream",
     "text": [
      "test\n"
     ]
    }
   ],
   "source": [
    "import numpy as np\n",
    "import cv2\n",
    "import os\n",
    "def nothing(x):\n",
    "    pass\n",
    "resource_path = os.getcwd() + '/resource/'\n",
    "print('test')"
   ]
  },
  {
   "cell_type": "code",
   "execution_count": 18,
   "metadata": {},
   "outputs": [],
   "source": [
    "cap = cv2.VideoCapture(resource_path + 'tracking1.avi')\n",
    "\n",
    "while(1):\n",
    "    # Take each frame\n",
    "    ret, frame = cap.read()\n",
    "    \n",
    "    if ret == True:\n",
    "        # Convert BGR to HSV\n",
    "        hsv = cv2.cvtColor(frame, cv2.COLOR_BGR2HSV)\n",
    "\n",
    "        # define range of blue color in HSV\n",
    "        lower_blue = np.array([20,20,20])\n",
    "        upper_blue = np.array([50,255,255])\n",
    "\n",
    "        # Threshold the HSV image to get only blue colors\n",
    "        mask = cv2.inRange(hsv, lower_blue, upper_blue)\n",
    "\n",
    "        # Bitwise-AND mask and original image\n",
    "        res = cv2.bitwise_and(frame, frame, mask= mask)\n",
    "\n",
    "        cv2.imshow('frame',frame)\n",
    "        cv2.imshow('mask',mask)\n",
    "        cv2.imshow('res',res)\n",
    "    k = cv2.waitKey(100) & 0xFF\n",
    "    if k == 27:\n",
    "        break\n",
    "        \n",
    "cv2.destroyAllWindows()"
   ]
  },
  {
   "cell_type": "markdown",
   "metadata": {},
   "source": [
    "## with Trackbar"
   ]
  },
  {
   "cell_type": "code",
   "execution_count": 6,
   "metadata": {},
   "outputs": [],
   "source": [
    "cv2.namedWindow('image')\n",
    "cv2.createTrackbar('hue', 'image', 0, 360, nothing)\n",
    "cap = cv2.VideoCapture(resource_path + 'tracking3.avi')\n",
    "font = cv2.FONT_HERSHEY_SIMPLEX\n",
    "\n",
    "while(1):\n",
    "    #get current positions of four trackbar\n",
    "    hue = cv2.getTrackbarPos('hue', 'image')\n",
    "    # Take each frame\n",
    "    ret, frame = cap.read()\n",
    "    if ret == True:\n",
    "        # Convert BGR to HSV\n",
    "        hsv = cv2.cvtColor(frame, cv2.COLOR_BGR2HSV)\n",
    "\n",
    "        # define range of blue color in HSV\n",
    "        lower_blue = np.array([hue-0,40,40])\n",
    "        upper_blue = np.array([hue+20,100,100])\n",
    "\n",
    "        # Threshold the HSV image to get only blue colors\n",
    "        mask = cv2.inRange(hsv, lower_blue, upper_blue)\n",
    "\n",
    "        # Bitwise-AND mask and original image\n",
    "        res = cv2.bitwise_and(frame, frame, mask= mask)\n",
    "        msg = \"hue:\" + str(hue)\n",
    "\n",
    "        cv2.putText(frame, msg, (10, 10), font, 0.6, (255,255,255), 2, cv2.LINE_AA)\n",
    "        cv2.imshow('image',frame)\n",
    "        cv2.imshow('mask',mask)\n",
    "        cv2.imshow('res',res)\n",
    "    k = cv2.waitKey(100) & 0xFF\n",
    "    if k == 27:\n",
    "        break\n",
    "        \n",
    "cv2.destroyAllWindows()"
   ]
  },
  {
   "cell_type": "code",
   "execution_count": null,
   "metadata": {},
   "outputs": [],
   "source": []
  }
 ],
 "metadata": {
  "kernelspec": {
   "display_name": "Python 3",
   "language": "python",
   "name": "python3"
  },
  "language_info": {
   "codemirror_mode": {
    "name": "ipython",
    "version": 3
   },
   "file_extension": ".py",
   "mimetype": "text/x-python",
   "name": "python",
   "nbconvert_exporter": "python",
   "pygments_lexer": "ipython3",
   "version": "3.8.2"
  }
 },
 "nbformat": 4,
 "nbformat_minor": 4
}
