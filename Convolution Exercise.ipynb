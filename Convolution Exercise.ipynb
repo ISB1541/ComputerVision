{
 "cells": [
  {
   "cell_type": "code",
   "execution_count": 90,
   "metadata": {},
   "outputs": [],
   "source": [
    "import cv2\n",
    "import numpy as np\n",
    "import os"
   ]
  },
  {
   "cell_type": "code",
   "execution_count": 91,
   "metadata": {},
   "outputs": [],
   "source": [
    "resource_path = os.getcwd() + '/resource/'\n",
    "img = cv2.imread(resource_path + 'messi5.png',0)\n",
    "img2 = cv2.imread(resource_path + 'messi5.png',0)\n",
    "cv2.imshow('image',img)\n",
    "k = cv2.waitKey(0)\n",
    "cv2.destroyAllWindows()"
   ]
  },
  {
   "cell_type": "code",
   "execution_count": 92,
   "metadata": {},
   "outputs": [
    {
     "name": "stdout",
     "output_type": "stream",
     "text": [
      "[[ 32  34  35 ...  55  54  52]\n",
      " [ 33  34  34 ...  52  53  52]\n",
      " [ 33  34  33 ...  51  53  54]\n",
      " ...\n",
      " [113 112 114 ...  91  92  95]\n",
      " [111 102 112 ...  96 109 109]\n",
      " [113 104 106 ...  90 101 104]]\n"
     ]
    }
   ],
   "source": [
    "print(img)"
   ]
  },
  {
   "cell_type": "code",
   "execution_count": 93,
   "metadata": {},
   "outputs": [],
   "source": [
    "kernel = np.zeros((3,3),dtype=np.uint8)"
   ]
  },
  {
   "cell_type": "code",
   "execution_count": 94,
   "metadata": {},
   "outputs": [],
   "source": [
    "## 중심으로 모든 값을 곱해서 더한게 합성곱이다."
   ]
  },
  {
   "cell_type": "code",
   "execution_count": 95,
   "metadata": {},
   "outputs": [
    {
     "name": "stdout",
     "output_type": "stream",
     "text": [
      "[[ 32  34  35 ...  55  54  52]\n",
      " [ 33  34  34 ...  52  53  52]\n",
      " [ 33  34  33 ...  51  53  54]\n",
      " ...\n",
      " [113 112 114 ...  91  92  95]\n",
      " [111 102 112 ...  96 109 109]\n",
      " [113 104 106 ...  90 101 104]]\n",
      "[[ 32  34  35 ...  55  54  52]\n",
      " [ 33  34  34 ...  52  53  52]\n",
      " [ 33  34  33 ...  51  53  54]\n",
      " ...\n",
      " [113 112 114 ...  91  92  95]\n",
      " [111 102 112 ...  96 109 109]\n",
      " [113 104 106 ...  90 101 104]]\n"
     ]
    }
   ],
   "source": [
    "print(img)\n",
    "print(img2)"
   ]
  },
  {
   "cell_type": "code",
   "execution_count": 96,
   "metadata": {},
   "outputs": [],
   "source": [
    "w,h = img.shape\n",
    "kw,kh = kernel.shape"
   ]
  },
  {
   "cell_type": "code",
   "execution_count": 97,
   "metadata": {},
   "outputs": [
    {
     "name": "stdout",
     "output_type": "stream",
     "text": [
      "9\n"
     ]
    }
   ],
   "source": [
    "print( kw * kh)"
   ]
  },
  {
   "cell_type": "code",
   "execution_count": 98,
   "metadata": {},
   "outputs": [],
   "source": [
    "kernel = np.zeros((3,3), dtype=np.int8)\n",
    "for i in range(kw):\n",
    "    for j in range(kh):\n",
    "        kernel[i,j] = 1\n",
    "        \n",
    "kernel[1,1] = 6"
   ]
  },
  {
   "cell_type": "code",
   "execution_count": 99,
   "metadata": {},
   "outputs": [
    {
     "name": "stdout",
     "output_type": "stream",
     "text": [
      "[[1 1 1]\n",
      " [1 6 1]\n",
      " [1 1 1]]\n"
     ]
    }
   ],
   "source": [
    "print(kernel)"
   ]
  },
  {
   "cell_type": "code",
   "execution_count": 100,
   "metadata": {},
   "outputs": [],
   "source": [
    "for i in range(w-1):\n",
    "    for j in range(h-1):\n",
    "        if not(i == 0 or j == 0 or i == w or j == h):\n",
    "            sum = 0\n",
    "            for z in range(kw):\n",
    "                for k in range(kh):\n",
    "                    sum += img[i-1+z, j-1+k] * kernel[z,k]\n",
    "            temp = int(sum / (kw * kh))\n",
    "            if temp >= 255:\n",
    "                img2[i,j] = 255\n",
    "            else:\n",
    "                img2[i,j] = temp"
   ]
  },
  {
   "cell_type": "code",
   "execution_count": 101,
   "metadata": {
    "scrolled": true
   },
   "outputs": [
    {
     "name": "stdout",
     "output_type": "stream",
     "text": [
      "[[ 32  34  35 ...  55  54  52]\n",
      " [ 33  34  34 ...  52  53  52]\n",
      " [ 33  34  33 ...  51  53  54]\n",
      " ...\n",
      " [113 112 114 ...  91  92  95]\n",
      " [111 102 112 ...  96 109 109]\n",
      " [113 104 106 ...  90 101 104]]\n",
      "[[ 32  34  35 ...  55  54  52]\n",
      " [ 33  52  52 ...  82  82  52]\n",
      " [ 33  52  51 ...  81  82  54]\n",
      " ...\n",
      " [113 173 174 ... 149 149  95]\n",
      " [111 166 171 ... 150 159 109]\n",
      " [113 104 106 ...  90 101 104]]\n"
     ]
    }
   ],
   "source": [
    "print(img)\n",
    "print(img2)"
   ]
  },
  {
   "cell_type": "code",
   "execution_count": 102,
   "metadata": {},
   "outputs": [],
   "source": [
    "cv2.imshow('image',img)\n",
    "cv2.imshow('image2',img2)\n",
    "k = cv2.waitKey(0)\n",
    "cv2.destroyAllWindows()"
   ]
  },
  {
   "cell_type": "code",
   "execution_count": 103,
   "metadata": {
    "scrolled": true
   },
   "outputs": [
    {
     "name": "stdout",
     "output_type": "stream",
     "text": [
      "472\n",
      "1 1\n"
     ]
    }
   ],
   "source": [
    "for i in range(2):\n",
    "    for j in range(2):\n",
    "        if not(i == 0 or j == 0 or i == w or j == h):\n",
    "            print(int(img[i-1,j-1] * kernel[0,0] + img[i-1,j] * kernel[0,1] + img[i-1,j+1] * kernel[0,2] +\n",
    "            img[i,j-1] * kernel[1,0] + img[i,j] * kernel[1,1] + img[i,j+1] * kernel[1,2] +\n",
    "            img[i+1,j-1] * kernel[2,0] + img[i+1,j] * kernel[2,1] + img[i+1,j+1] * kernel[2,2]))\n",
    "            print(i,j)\n"
   ]
  },
  {
   "cell_type": "code",
   "execution_count": 104,
   "metadata": {},
   "outputs": [
    {
     "name": "stdout",
     "output_type": "stream",
     "text": [
      "33\n"
     ]
    }
   ],
   "source": [
    "print(img[2,2] * kernel[2,2])"
   ]
  },
  {
   "cell_type": "code",
   "execution_count": null,
   "metadata": {},
   "outputs": [],
   "source": []
  },
  {
   "cell_type": "code",
   "execution_count": null,
   "metadata": {},
   "outputs": [],
   "source": []
  }
 ],
 "metadata": {
  "kernelspec": {
   "display_name": "Python 3",
   "language": "python",
   "name": "python3"
  },
  "language_info": {
   "codemirror_mode": {
    "name": "ipython",
    "version": 3
   },
   "file_extension": ".py",
   "mimetype": "text/x-python",
   "name": "python",
   "nbconvert_exporter": "python",
   "pygments_lexer": "ipython3",
   "version": "3.8.2"
  }
 },
 "nbformat": 4,
 "nbformat_minor": 4
}
