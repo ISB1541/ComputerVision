{
 "cells": [
  {
   "cell_type": "markdown",
   "metadata": {},
   "source": [
    "# 1.5.2 Harris Corner Detection"
   ]
  },
  {
   "cell_type": "markdown",
   "metadata": {},
   "source": [
    "## Harris Corner Detector in OpenCV"
   ]
  },
  {
   "cell_type": "code",
   "execution_count": 1,
   "metadata": {},
   "outputs": [],
   "source": [
    "import cv2\n",
    "import numpy as np\n",
    "import os\n",
    "from matplotlib import pyplot as plt"
   ]
  },
  {
   "cell_type": "code",
   "execution_count": 2,
   "metadata": {},
   "outputs": [],
   "source": [
    "resource_path = os.getcwd() + '/resource/'"
   ]
  },
  {
   "cell_type": "code",
   "execution_count": 3,
   "metadata": {},
   "outputs": [],
   "source": [
    "filename = resource_path + 'horse.bmp'\n",
    "img = cv2.imread(filename)\n",
    "gray = cv2.cvtColor(img,cv2.COLOR_BGR2GRAY)\n",
    "gray = np.float32(gray)\n",
    "dst = cv2.cornerHarris(gray,2,3,0.04)"
   ]
  },
  {
   "cell_type": "code",
   "execution_count": 4,
   "metadata": {},
   "outputs": [],
   "source": [
    "#result is dilated for marking the corners, not important\n",
    "dst = cv2.dilate(dst,None)"
   ]
  },
  {
   "cell_type": "code",
   "execution_count": 5,
   "metadata": {},
   "outputs": [],
   "source": [
    "# Threshold for an optimal value, it may vary depending on the image.\n",
    "img[dst>0.001*dst.max()]=[0,0,255]"
   ]
  },
  {
   "cell_type": "code",
   "execution_count": 6,
   "metadata": {},
   "outputs": [],
   "source": [
    "cv2.imshow('dst',img)\n",
    "if cv2.waitKey(0) & 0xff == 27:\n",
    "    cv2.destroyAllWindows()"
   ]
  },
  {
   "cell_type": "markdown",
   "metadata": {},
   "source": [
    "## with Trackbar"
   ]
  },
  {
   "cell_type": "code",
   "execution_count": 7,
   "metadata": {},
   "outputs": [],
   "source": [
    "def nothing(x):\n",
    "    pass"
   ]
  },
  {
   "cell_type": "code",
   "execution_count": 8,
   "metadata": {},
   "outputs": [],
   "source": [
    "cv2.namedWindow('image')\n",
    "cv2.createTrackbar('threshold', 'image', 10, 1000, nothing)\n",
    "while(1):\n",
    "    k = cv2.waitKey(1) & 0xFF\n",
    "    if k == 27:\n",
    "        break\n",
    "    threshold = cv2.getTrackbarPos('threshold', 'image')\n",
    "    if(threshold <= 1):\n",
    "        threshold = 1\n",
    "    img = cv2.imread(filename)\n",
    "    img[dst > 1. / threshold * dst.max()] = [0, 0, 255]\n",
    "    cv2.imshow('image',img)\n",
    "cv2.destroyAllWindows()"
   ]
  },
  {
   "cell_type": "markdown",
   "metadata": {},
   "source": [
    "## Corner with SubPixel Accuracy"
   ]
  },
  {
   "cell_type": "code",
   "execution_count": 9,
   "metadata": {},
   "outputs": [],
   "source": [
    "filename = resource_path + 'horse.bmp'\n",
    "img = cv2.imread(filename)\n",
    "gray = cv2.cvtColor(img,cv2.COLOR_BGR2GRAY)"
   ]
  },
  {
   "cell_type": "code",
   "execution_count": 10,
   "metadata": {},
   "outputs": [
    {
     "name": "stdout",
     "output_type": "stream",
     "text": [
      "680406.48 (446, 350)\n"
     ]
    }
   ],
   "source": [
    "# find Harris corners\n",
    "gray = np.float32(gray)\n",
    "dst = cv2.cornerHarris(gray,2,3,0.04)\n",
    "dst = cv2.dilate(dst,None)\n",
    "ret, dst = cv2.threshold(dst,0.01*dst.max(),255,0)\n",
    "dst = np.uint8(dst)\n",
    "print(ret, dst.shape)"
   ]
  },
  {
   "cell_type": "code",
   "execution_count": 11,
   "metadata": {},
   "outputs": [],
   "source": [
    "# find centroids\n",
    "ret, labels, stats, centroids = cv2.connectedComponentsWithStats(dst)"
   ]
  },
  {
   "cell_type": "code",
   "execution_count": 12,
   "metadata": {},
   "outputs": [],
   "source": [
    "# define the criteria to stop and refine the corners\n",
    "criteria = (cv2.TERM_CRITERIA_EPS + cv2.TERM_CRITERIA_MAX_ITER, 100, 0.001)\n",
    "corners = cv2.cornerSubPix(gray,np.float32(centroids),(5,5),(-1,-1),criteria)"
   ]
  },
  {
   "cell_type": "code",
   "execution_count": 13,
   "metadata": {},
   "outputs": [
    {
     "name": "stdout",
     "output_type": "stream",
     "text": [
      "[[175 217 175 217]\n",
      " [338   2 337   3]\n",
      " [209   7 207   7]\n",
      " ...\n",
      " [174 444 174 444]\n",
      " [200 444 198 443]\n",
      " [285 444 285 441]]\n"
     ]
    }
   ],
   "source": [
    "# Now draw them\n",
    "res = np.hstack((centroids,corners))\n",
    "res = np.int0(res)\n",
    "print(res)"
   ]
  },
  {
   "cell_type": "code",
   "execution_count": 14,
   "metadata": {},
   "outputs": [
    {
     "data": {
      "text/plain": [
       "True"
      ]
     },
     "execution_count": 14,
     "metadata": {},
     "output_type": "execute_result"
    }
   ],
   "source": [
    "img[res[:,1],res[:,0]]=[0,0,255]\n",
    "img[res[:,3],res[:,2]] = [0,255,0]\n",
    "cv2.imwrite('subpixel5.png',img)"
   ]
  },
  {
   "cell_type": "code",
   "execution_count": 16,
   "metadata": {},
   "outputs": [],
   "source": [
    "cv2.imshow('dst', img)\n",
    "cv2.waitKey(0)\n",
    "cv2.destroyAllWindows()"
   ]
  },
  {
   "cell_type": "code",
   "execution_count": 18,
   "metadata": {},
   "outputs": [
    {
     "data": {
      "text/plain": [
       "array([217,   3,   7,  10,  17,  17,  23,  27,  42,  43,  43,  48,  58,\n",
       "        59,  68,  67,  69,  72,  85,  89,  97,  97, 107, 109, 110, 120,\n",
       "       122, 125, 128, 139, 136, 145, 145, 146, 143, 145, 147, 149, 152,\n",
       "       153, 153, 155, 154, 157, 158, 157, 160, 162, 161, 163, 164, 165,\n",
       "       166, 166, 167, 169, 167, 186, 171, 175, 176, 177, 178, 188, 174,\n",
       "       178, 179, 182, 182, 185, 188, 188, 189, 189, 195, 194, 195, 199,\n",
       "       201, 202, 209, 206, 205, 207, 210, 209, 213, 211, 212, 220, 217,\n",
       "       218, 214, 220, 221, 215, 220, 220, 224, 225, 220, 226, 226, 227,\n",
       "       231, 231, 228, 235, 238, 237, 242, 241, 242, 241, 241, 241, 242,\n",
       "       244, 245, 251, 254, 256, 257, 259, 261, 262, 263, 263, 264, 265,\n",
       "       264, 266, 265, 263, 269, 274, 269, 270, 273, 274, 273, 275, 278,\n",
       "       281, 277, 278, 276, 279, 280, 282, 279, 284, 286, 294, 294, 294,\n",
       "       285, 291, 290, 292, 291, 291, 296, 293, 293, 295, 297, 294, 290,\n",
       "       300, 296, 299, 294, 299, 303, 304, 313, 310, 303, 307, 308, 306,\n",
       "       307, 306, 310, 309, 309, 311, 312, 312, 315, 313, 313, 313, 313,\n",
       "       315, 315, 315, 317, 316, 319, 322, 320, 322, 321, 321, 323, 324,\n",
       "       324, 323, 327, 331, 332, 331, 330, 330, 330, 329, 331, 328, 331,\n",
       "       329, 333, 335, 335, 333, 337, 335, 341, 340, 341, 336, 339, 342,\n",
       "       342, 345, 340, 346, 346, 348, 344, 347, 348, 352, 348, 350, 348,\n",
       "       347, 354, 350, 352, 349, 352, 352, 359, 357, 363, 365, 367, 371,\n",
       "       374, 377, 375, 382, 380, 382, 377, 383, 383, 385, 385, 385, 388,\n",
       "       390, 385, 389, 390, 392, 391, 391, 391, 392, 393, 401, 393, 393,\n",
       "       396, 398, 393, 397, 400, 400, 403, 403, 401, 409, 404, 402, 402,\n",
       "       402, 405, 400, 401, 407, 406, 408, 409, 406, 408, 407, 407, 413,\n",
       "       410, 409, 409, 413, 414, 411, 411, 410, 408, 416, 414, 411, 417,\n",
       "       417, 420, 423, 423, 420, 423, 427, 424, 423, 422, 425, 421, 426,\n",
       "       427, 434, 432, 429, 432, 429, 432, 432, 435, 431, 433, 431, 433,\n",
       "       435, 441, 437, 432, 440, 436, 436, 440, 435, 439, 437, 437, 437,\n",
       "       437, 439, 441, 441, 441, 443, 444, 439, 442, 443, 444, 443, 441],\n",
       "      dtype=int64)"
      ]
     },
     "execution_count": 18,
     "metadata": {},
     "output_type": "execute_result"
    }
   ],
   "source": [
    "res[:,-1]"
   ]
  },
  {
   "cell_type": "code",
   "execution_count": 19,
   "metadata": {},
   "outputs": [],
   "source": [
    "for i in range(res.shape[0]):\n",
    "    cv2.circle(img,(res[i,0],res[i,1]),2,(0,0,255),-1)\n",
    "    cv2.circle(img,(res[i,2],res[i,3]),3,(0,255,0),-1)"
   ]
  },
  {
   "cell_type": "code",
   "execution_count": 21,
   "metadata": {},
   "outputs": [],
   "source": [
    "cv2.imshow('dst', img)\n",
    "cv2.waitKey(0)\n",
    "cv2.destroyAllWindows()"
   ]
  }
 ],
 "metadata": {
  "kernelspec": {
   "display_name": "Python 3",
   "language": "python",
   "name": "python3"
  },
  "language_info": {
   "codemirror_mode": {
    "name": "ipython",
    "version": 3
   },
   "file_extension": ".py",
   "mimetype": "text/x-python",
   "name": "python",
   "nbconvert_exporter": "python",
   "pygments_lexer": "ipython3",
   "version": "3.8.2"
  }
 },
 "nbformat": 4,
 "nbformat_minor": 4
}
